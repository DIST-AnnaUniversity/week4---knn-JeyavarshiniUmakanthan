{
  "nbformat": 4,
  "nbformat_minor": 0,
  "metadata": {
    "colab": {
      "provenance": []
    },
    "kernelspec": {
      "name": "python3",
      "display_name": "Python 3"
    },
    "language_info": {
      "name": "python"
    }
  },
  "cells": [
    {
      "cell_type": "code",
      "execution_count": 5,
      "metadata": {
        "id": "Na1b5-1SD3Kw"
      },
      "outputs": [],
      "source": [
        "import pandas as pd\n",
        "import math\n",
        "\n",
        "k=5"
      ]
    },
    {
      "cell_type": "code",
      "source": [
        "data=pd.read_csv(\"knn excel for python.csv\")"
      ],
      "metadata": {
        "id": "wFmb0KHuFlRJ"
      },
      "execution_count": 6,
      "outputs": []
    },
    {
      "cell_type": "code",
      "source": [
        "print(data)"
      ],
      "metadata": {
        "colab": {
          "base_uri": "https://localhost:8080/"
        },
        "id": "3cm2cKffFuPI",
        "outputId": "cd443cc8-8cb1-4035-a63c-259d8ff68a60"
      },
      "execution_count": 7,
      "outputs": [
        {
          "output_type": "stream",
          "name": "stdout",
          "text": [
            "    Height (in cms)  Weight (in kgs) T Shirt Size  distance\n",
            "0               158               58            M       4.5\n",
            "1               158               59            M       5.0\n",
            "2               160               59            M       3.6\n",
            "3               160               60            M       4.5\n",
            "4               163               60            M       4.1\n",
            "5               163               61            M       5.1\n",
            "6               160               64            L       8.2\n",
            "7               163               64            L       8.1\n",
            "8               165               61            L       5.8\n",
            "9               165               62            L       6.7\n",
            "10              165               65            L       9.5\n",
            "11              168               62            L       8.5\n",
            "12              168               63            L       9.2\n",
            "13              168               66            L      11.7\n",
            "14              170               63            L      10.6\n",
            "15              170               64            L      11.3\n",
            "16              170               68            L      14.4\n"
          ]
        }
      ]
    },
    {
      "cell_type": "code",
      "source": [
        "mnh = min(data['Height (in cms)'])\n",
        "mxh = max(data['Height (in cms)'])\n",
        "sheight = []\n",
        "for h in data['Height (in cms)']:\n",
        "    val = (h-mnh)/(mxh-mnh)\n",
        "    sheight.append(val)\n",
        "print(sheight)"
      ],
      "metadata": {
        "colab": {
          "base_uri": "https://localhost:8080/"
        },
        "id": "zVQX26pqGOIV",
        "outputId": "5635003b-a5aa-4aa6-c4e0-e58d68c1bcdc"
      },
      "execution_count": 9,
      "outputs": [
        {
          "output_type": "stream",
          "name": "stdout",
          "text": [
            "[0.0, 0.0, 0.16666666666666666, 0.16666666666666666, 0.4166666666666667, 0.4166666666666667, 0.16666666666666666, 0.4166666666666667, 0.5833333333333334, 0.5833333333333334, 0.5833333333333334, 0.8333333333333334, 0.8333333333333334, 0.8333333333333334, 1.0, 1.0, 1.0]\n"
          ]
        }
      ]
    },
    {
      "cell_type": "code",
      "source": [
        "mnw = min(data['Weight (in kgs)'])\n",
        "mxw = max(data['Weight (in kgs)'])\n",
        "sweight = []\n",
        "for h in data['Weight (in kgs)']:\n",
        "    val = (h-mnw)/(mxw-mnw)\n",
        "    sweight.append(val)\n",
        "print(sweight)"
      ],
      "metadata": {
        "colab": {
          "base_uri": "https://localhost:8080/"
        },
        "id": "7ssLYTNwG14_",
        "outputId": "4b9f68a5-93aa-4715-fe02-815e7ddce885"
      },
      "execution_count": 10,
      "outputs": [
        {
          "output_type": "stream",
          "name": "stdout",
          "text": [
            "[0.0, 0.1, 0.1, 0.2, 0.2, 0.3, 0.6, 0.6, 0.3, 0.4, 0.7, 0.4, 0.5, 0.8, 0.5, 0.6, 1.0]\n"
          ]
        }
      ]
    },
    {
      "cell_type": "code",
      "source": [
        "nd = {'S-Height':sheight,'S-Weight':sweight,'T Shirt Size':data['T Shirt Size']}\n",
        "sdata = pd.DataFrame(nd)\n",
        "print(sdata)"
      ],
      "metadata": {
        "colab": {
          "base_uri": "https://localhost:8080/"
        },
        "id": "TQwX0StYG9P-",
        "outputId": "97e54af3-837d-4a23-bab0-97a48eb60829"
      },
      "execution_count": 12,
      "outputs": [
        {
          "output_type": "stream",
          "name": "stdout",
          "text": [
            "    S-Height  S-Weight T Shirt Size\n",
            "0   0.000000       0.0            M\n",
            "1   0.000000       0.1            M\n",
            "2   0.166667       0.1            M\n",
            "3   0.166667       0.2            M\n",
            "4   0.416667       0.2            M\n",
            "5   0.416667       0.3            M\n",
            "6   0.166667       0.6            L\n",
            "7   0.416667       0.6            L\n",
            "8   0.583333       0.3            L\n",
            "9   0.583333       0.4            L\n",
            "10  0.583333       0.7            L\n",
            "11  0.833333       0.4            L\n",
            "12  0.833333       0.5            L\n",
            "13  0.833333       0.8            L\n",
            "14  1.000000       0.5            L\n",
            "15  1.000000       0.6            L\n",
            "16  1.000000       1.0            L\n"
          ]
        }
      ]
    },
    {
      "cell_type": "code",
      "source": [
        "newh = 162\n",
        "neww = 56\n",
        "snewh = (newh-mnh)/(mxh-mnh)\n",
        "sneww = (neww-mnw)/(mxw-mnw)\n",
        "distance = []\n",
        "\n",
        "for i in range(17):\n",
        "    h = sdata.iloc[i][0]\n",
        "    w = sdata.iloc[i][1]\n",
        "    dis = math.sqrt(((snewh-h)*(snewh-h))+((sneww-w)*(sneww-w)))\n",
        "    distance.append(dis)\n",
        "print(distance)"
      ],
      "metadata": {
        "colab": {
          "base_uri": "https://localhost:8080/"
        },
        "id": "LQcNPSF-HQu-",
        "outputId": "06062df8-74e8-4114-f4f0-7bbc409ac87d"
      },
      "execution_count": 17,
      "outputs": [
        {
          "output_type": "stream",
          "name": "stdout",
          "text": [
            "[0.38873012632302, 0.44845413490245706, 0.3431876713662334, 0.4333333333333334, 0.4085883557377088, 0.5068968775248517, 0.8171767114754176, 0.804328567467577, 0.5590169943749475, 0.65, 0.9340770846134702, 0.7810249675906655, 0.8602325267042626, 1.118033988749895, 0.9666666666666667, 1.0413666234542207, 1.3727506854649334]\n"
          ]
        }
      ]
    },
    {
      "cell_type": "code",
      "source": [
        "sdata.insert(loc=3,column='distance',value=distance)"
      ],
      "metadata": {
        "id": "g4QF1kFPHdhI"
      },
      "execution_count": 18,
      "outputs": []
    },
    {
      "cell_type": "code",
      "source": [
        "print(sdata)"
      ],
      "metadata": {
        "colab": {
          "base_uri": "https://localhost:8080/"
        },
        "id": "-7Zk0sQWHv-H",
        "outputId": "4d5b7978-3a7b-4038-bf38-0d469dee644d"
      },
      "execution_count": 19,
      "outputs": [
        {
          "output_type": "stream",
          "name": "stdout",
          "text": [
            "    S-Height  S-Weight T Shirt Size  distance\n",
            "0   0.000000       0.0            M  0.388730\n",
            "1   0.000000       0.1            M  0.448454\n",
            "2   0.166667       0.1            M  0.343188\n",
            "3   0.166667       0.2            M  0.433333\n",
            "4   0.416667       0.2            M  0.408588\n",
            "5   0.416667       0.3            M  0.506897\n",
            "6   0.166667       0.6            L  0.817177\n",
            "7   0.416667       0.6            L  0.804329\n",
            "8   0.583333       0.3            L  0.559017\n",
            "9   0.583333       0.4            L  0.650000\n",
            "10  0.583333       0.7            L  0.934077\n",
            "11  0.833333       0.4            L  0.781025\n",
            "12  0.833333       0.5            L  0.860233\n",
            "13  0.833333       0.8            L  1.118034\n",
            "14  1.000000       0.5            L  0.966667\n",
            "15  1.000000       0.6            L  1.041367\n",
            "16  1.000000       1.0            L  1.372751\n"
          ]
        }
      ]
    },
    {
      "cell_type": "code",
      "source": [
        "sort_dis = sdata.sort_values(by=['distance'])"
      ],
      "metadata": {
        "id": "ZSIecQaLH1FH"
      },
      "execution_count": 20,
      "outputs": []
    },
    {
      "cell_type": "code",
      "source": [
        "top_k = sort_dis.head(k)\n",
        "print(top_k)"
      ],
      "metadata": {
        "colab": {
          "base_uri": "https://localhost:8080/"
        },
        "id": "BD0OhjjvH65P",
        "outputId": "8281005e-3f5f-4b0d-db94-dc25ca5d580d"
      },
      "execution_count": 21,
      "outputs": [
        {
          "output_type": "stream",
          "name": "stdout",
          "text": [
            "   S-Height  S-Weight T Shirt Size  distance\n",
            "2  0.166667       0.1            M  0.343188\n",
            "0  0.000000       0.0            M  0.388730\n",
            "4  0.416667       0.2            M  0.408588\n",
            "3  0.166667       0.2            M  0.433333\n",
            "1  0.000000       0.1            M  0.448454\n"
          ]
        }
      ]
    },
    {
      "cell_type": "code",
      "source": [
        "count = top_k['T Shirt Size'].value_counts()\n",
        "dict = count.to_dict() "
      ],
      "metadata": {
        "id": "J7ds-KdIH94m"
      },
      "execution_count": 22,
      "outputs": []
    },
    {
      "cell_type": "code",
      "source": [
        "print(\"The predicted size: \", max(dict))"
      ],
      "metadata": {
        "colab": {
          "base_uri": "https://localhost:8080/"
        },
        "id": "rGwnEn5fIEEe",
        "outputId": "0603ec0c-95e2-4c83-dd09-4caf81378866"
      },
      "execution_count": 23,
      "outputs": [
        {
          "output_type": "stream",
          "name": "stdout",
          "text": [
            "The predicted size:  M\n"
          ]
        }
      ]
    }
  ]
}